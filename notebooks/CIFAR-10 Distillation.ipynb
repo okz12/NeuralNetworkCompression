{
 "cells": [
  {
   "cell_type": "code",
   "execution_count": 2,
   "metadata": {
    "ExecuteTime": {
     "end_time": "2020-06-01T12:15:04.125772Z",
     "start_time": "2020-06-01T12:15:04.122991Z"
    }
   },
   "outputs": [],
   "source": [
    "import os\n",
    "if os.getcwd().split('/')[-1] == \"notebooks\":\n",
    "    os.chdir('..')"
   ]
  },
  {
   "cell_type": "code",
   "execution_count": 3,
   "metadata": {
    "ExecuteTime": {
     "end_time": "2020-06-01T12:15:05.849216Z",
     "start_time": "2020-06-01T12:15:04.344550Z"
    }
   },
   "outputs": [
    {
     "name": "stdout",
     "output_type": "stream",
     "text": [
      "Files already downloaded and verified\n",
      "Files already downloaded and verified\n"
     ]
    }
   ],
   "source": [
    "import torch.nn as nn\n",
    "import torch.nn.functional as F\n",
    "import torch.optim as optim\n",
    "import torch\n",
    "import torchvision\n",
    "import torchvision.transforms as transforms\n",
    "from src.kd import DistillationLoss\n",
    "from src.train import train\n",
    "\n",
    "data = torch.load(\"./data/cifar10_training_data.pt\")\n",
    "labels = torch.load(\"./data/cifar10_training_labels.pt\")\n",
    "logits = torch.load(\"./data/cifar10_logits.pt\")\n",
    "\n",
    "batch_size = 128\n",
    "\n",
    "transform = transforms.Compose(\n",
    "    [transforms.ToTensor(),\n",
    "     transforms.Normalize((0.5, 0.5, 0.5), (0.5, 0.5, 0.5))])\n",
    "\n",
    "trainset = torchvision.datasets.CIFAR10(root='./data/', train=True,\n",
    "                                        download=True, transform=transform)\n",
    "trainloader = torch.utils.data.DataLoader(trainset, batch_size=batch_size,\n",
    "                                          shuffle=False, num_workers=2, pin_memory=True)\n",
    "\n",
    "testset = torchvision.datasets.CIFAR10(root='./data/', train=False,\n",
    "                                       download=True, transform=transform)\n",
    "testloader = torch.utils.data.DataLoader(testset, batch_size=batch_size,\n",
    "                                         shuffle=False, num_workers=2)\n",
    "\n",
    "kdtrain = torch.utils.data.TensorDataset(data, labels, logits)\n",
    "kdloader = torch.utils.data.DataLoader(kdtrain, batch_size=batch_size, shuffle=False, num_workers=2, pin_memory=True)"
   ]
  },
  {
   "cell_type": "code",
   "execution_count": 14,
   "metadata": {
    "ExecuteTime": {
     "end_time": "2020-06-01T12:18:36.384730Z",
     "start_time": "2020-06-01T12:18:36.378331Z"
    }
   },
   "outputs": [],
   "source": [
    "class Net(nn.Module):\n",
    "    def __init__(self):\n",
    "        super(Net, self).__init__()\n",
    "        self.fc1 = nn.Linear(32 * 32 * 3, 500)\n",
    "        self.fc2 = nn.Linear(500, 250)\n",
    "        self.fc3 = nn.Linear(250, 100)\n",
    "        self.fc4 = nn.Linear(100, 50)\n",
    "        self.fc5 = nn.Linear(50, 25)\n",
    "        self.fc6 = nn.Linear(25, 10)\n",
    "        self.fc7 = nn.Linear(10, 10)\n",
    "        \n",
    "\n",
    "    def forward(self, x):\n",
    "        x = x.view(-1, 32 * 32 * 3)\n",
    "        x = F.relu(self.fc1(x))\n",
    "        x = F.relu(self.fc2(x))\n",
    "        x = F.relu(self.fc3(x))\n",
    "        x = F.relu(self.fc4(x))\n",
    "        x = F.relu(self.fc5(x))\n",
    "        x = F.relu(self.fc6(x))\n",
    "        x = self.fc7(x)\n",
    "        return x"
   ]
  },
  {
   "cell_type": "code",
   "execution_count": 15,
   "metadata": {},
   "outputs": [
    {
     "data": {
      "application/vnd.jupyter.widget-view+json": {
       "model_id": "535d11475cdd4464a1c4b88a77c59706",
       "version_major": 2,
       "version_minor": 0
      },
      "text/plain": [
       "HBox(children=(FloatProgress(value=0.0, max=20.0), HTML(value='')))"
      ]
     },
     "metadata": {},
     "output_type": "display_data"
    },
    {
     "name": "stdout",
     "output_type": "stream",
     "text": [
      "Epoch 1 accuracy = 43.57%\n",
      "Epoch 2 accuracy = 46.54%\n",
      "Epoch 3 accuracy = 49.63%\n",
      "Epoch 4 accuracy = 50.53%\n",
      "Epoch 5 accuracy = 52.12%\n",
      "Epoch 6 accuracy = 52.08%\n",
      "Epoch 7 accuracy = 52.38%\n",
      "Epoch 8 accuracy = 52.09%\n",
      "Epoch 9 accuracy = 51.66%\n",
      "Epoch 10 accuracy = 51.44%\n",
      "Epoch 11 accuracy = 51.06%\n",
      "Epoch 12 accuracy = 51.72%\n",
      "Epoch 13 accuracy = 51.84%\n",
      "Epoch 14 accuracy = 51.90%\n",
      "Epoch 15 accuracy = 52.42%\n",
      "Epoch 16 accuracy = 51.61%\n",
      "Epoch 17 accuracy = 52.54%\n",
      "Epoch 18 accuracy = 52.20%\n",
      "Epoch 19 accuracy = 52.42%\n",
      "Epoch 20 accuracy = 51.97%\n",
      "\n"
     ]
    }
   ],
   "source": [
    "model = Net()\n",
    "optimizer = optim.Adam(model.parameters(), lr=0.001)\n",
    "if torch.cuda.is_available():\n",
    "    model.cuda()\n",
    "train(model, trainloader, testloader, optimizer, nn.CrossEntropyLoss(), epochs=20, writer=None)"
   ]
  },
  {
   "cell_type": "code",
   "execution_count": 16,
   "metadata": {},
   "outputs": [
    {
     "data": {
      "application/vnd.jupyter.widget-view+json": {
       "model_id": "12da864a1732450dbaca9c291292c75b",
       "version_major": 2,
       "version_minor": 0
      },
      "text/plain": [
       "HBox(children=(FloatProgress(value=0.0, max=20.0), HTML(value='')))"
      ]
     },
     "metadata": {},
     "output_type": "display_data"
    },
    {
     "name": "stdout",
     "output_type": "stream",
     "text": [
      "Epoch 1 accuracy = 42.22%\n",
      "Epoch 2 accuracy = 46.11%\n",
      "Epoch 3 accuracy = 49.15%\n",
      "Epoch 4 accuracy = 49.53%\n",
      "Epoch 5 accuracy = 50.87%\n",
      "Epoch 6 accuracy = 51.23%\n",
      "Epoch 7 accuracy = 51.53%\n",
      "Epoch 8 accuracy = 50.72%\n",
      "Epoch 9 accuracy = 52.13%\n",
      "Epoch 10 accuracy = 51.61%\n",
      "Epoch 11 accuracy = 51.51%\n",
      "Epoch 12 accuracy = 52.43%\n",
      "Epoch 13 accuracy = 51.32%\n",
      "Epoch 14 accuracy = 51.35%\n",
      "Epoch 15 accuracy = 51.59%\n",
      "Epoch 16 accuracy = 51.27%\n",
      "Epoch 17 accuracy = 52.12%\n",
      "Epoch 18 accuracy = 51.77%\n",
      "Epoch 19 accuracy = 51.46%\n",
      "Epoch 20 accuracy = 52.68%\n",
      "\n"
     ]
    }
   ],
   "source": [
    "model = Net()\n",
    "distillation_loss = DistillationLoss(5, 0.8)\n",
    "\n",
    "def kd_ce_loss(logits_S, labels, logits_T, temperature=5):\n",
    "    '''\n",
    "    Calculate the cross entropy between logits_S and logits_T\n",
    "    :param logits_S: Tensor of shape (batch_size, length, num_labels) or (batch_size, num_labels)\n",
    "    :param logits_T: Tensor of shape (batch_size, length, num_labels) or (batch_size, num_labels)\n",
    "    :param temperature: A float or a tensor of shape (batch_size, length) or (batch_size,)\n",
    "    '''\n",
    "    if isinstance(temperature, torch.Tensor) and temperature.dim() > 0:\n",
    "        temperature = temperature.unsqueeze(-1)\n",
    "    beta_logits_T = logits_T / temperature\n",
    "    beta_logits_S = logits_S / temperature\n",
    "    p_T = F.softmax(beta_logits_T, dim=-1)\n",
    "    distillation_loss = -(p_T * F.log_softmax(beta_logits_S, dim=-1)).sum(dim=-1).mean()\n",
    "    target_loss = nn.CrossEntropyLoss()(logits_S, labels)\n",
    "    loss = 0.8 * distillation_loss + (1 - 0.8) * target_loss\n",
    "    return loss\n",
    "\n",
    "optimizer = optim.Adam(model.parameters(), lr=0.001)\n",
    "if torch.cuda.is_available():\n",
    "    model.cuda()\n",
    "train(model, kdloader, testloader, optimizer, kd_ce_loss, epochs=20, writer=None)"
   ]
  }
 ],
 "metadata": {
  "kernelspec": {
   "display_name": "Python 3",
   "language": "python",
   "name": "python3"
  },
  "language_info": {
   "codemirror_mode": {
    "name": "ipython",
    "version": 3
   },
   "file_extension": ".py",
   "mimetype": "text/x-python",
   "name": "python",
   "nbconvert_exporter": "python",
   "pygments_lexer": "ipython3",
   "version": "3.7.6"
  },
  "toc": {
   "base_numbering": 1,
   "nav_menu": {},
   "number_sections": true,
   "sideBar": true,
   "skip_h1_title": false,
   "title_cell": "Table of Contents",
   "title_sidebar": "Contents",
   "toc_cell": false,
   "toc_position": {},
   "toc_section_display": true,
   "toc_window_display": false
  }
 },
 "nbformat": 4,
 "nbformat_minor": 4
}
