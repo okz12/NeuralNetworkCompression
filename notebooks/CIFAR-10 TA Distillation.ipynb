{
 "cells": [
  {
   "cell_type": "markdown",
   "metadata": {},
   "source": [
    "### Results\n",
    "- VGG-19: 85.48%\n",
    "- VGG-16: 85.71%\n",
    "- VGG-13: 85.52%\n",
    "- VGG-11: 82.70%\n",
    "- DistilVGG: 79.68%\n",
    "\n",
    "Distill into DistillVGG T=5, alpha=0.8\n",
    "- VGG-13 -> 81.09%\n",
    "- VGG-16 -> 80.50%\n",
    "- VGG-16 -> VGG-11 -> 80.25%\n",
    "- VGG-19 -> VGG-16 -> VGG-13 -> VGG-11 -> 79.47%\n",
    "\n",
    "T6, alpha = .8\n",
    "- VGG-19 -> VGG-16 -> VGG-13 -> VGG-11 -> DistillVGG\n",
    "- 85.48 (Original), 85.38, 86.01, 83.41, 79.49\n",
    "\n",
    "T10, alpha = .8\n",
    "- VGG-16 -> VGG-13 -> VGG-11 -> DistillVGG\n",
    "- 85.71, 85.23, 83.11, 80.14\n",
    "\n",
    "T15, alpha = .8\n",
    "- VGG-16 -> VGG-13 -> VGG-11 -> DistillVGG\n",
    "- 85.71, 85.73, 83.54, 80.27\n",
    "\n",
    "T15, alpha = .8\n",
    "- VGG-16 -> VGG-13 -> VGG-11 -> DistillVGG\n",
    "- 85.71 -> 85.30, 83.10, 80.46\n",
    "\n",
    "VGG-13 -> DistilVGG\n",
    "- T=5: 81.09\n",
    "- T=10: 81.03\n",
    "- T=15: 81.41\n",
    "- T=20: 80.94"
   ]
  },
  {
   "cell_type": "code",
   "execution_count": 9,
   "metadata": {},
   "outputs": [],
   "source": [
    "pytorch_total_params = lambda model: sum(p.numel() for p in model.parameters())"
   ]
  },
  {
   "cell_type": "code",
   "execution_count": 12,
   "metadata": {},
   "outputs": [
    {
     "data": {
      "text/plain": [
       "VGG(\n",
       "  (features): Sequential(\n",
       "    (0): Conv2d(3, 64, kernel_size=(3, 3), stride=(1, 1), padding=(1, 1))\n",
       "    (1): BatchNorm2d(64, eps=1e-05, momentum=0.1, affine=True, track_running_stats=True)\n",
       "    (2): ReLU(inplace)\n",
       "    (3): Conv2d(64, 64, kernel_size=(3, 3), stride=(1, 1), padding=(1, 1))\n",
       "    (4): BatchNorm2d(64, eps=1e-05, momentum=0.1, affine=True, track_running_stats=True)\n",
       "    (5): ReLU(inplace)\n",
       "    (6): MaxPool2d(kernel_size=2, stride=2, padding=0, dilation=1, ceil_mode=False)\n",
       "    (7): Conv2d(64, 128, kernel_size=(3, 3), stride=(1, 1), padding=(1, 1))\n",
       "    (8): BatchNorm2d(128, eps=1e-05, momentum=0.1, affine=True, track_running_stats=True)\n",
       "    (9): ReLU(inplace)\n",
       "    (10): Conv2d(128, 128, kernel_size=(3, 3), stride=(1, 1), padding=(1, 1))\n",
       "    (11): BatchNorm2d(128, eps=1e-05, momentum=0.1, affine=True, track_running_stats=True)\n",
       "    (12): ReLU(inplace)\n",
       "    (13): MaxPool2d(kernel_size=2, stride=2, padding=0, dilation=1, ceil_mode=False)\n",
       "    (14): Conv2d(128, 256, kernel_size=(3, 3), stride=(1, 1), padding=(1, 1))\n",
       "    (15): BatchNorm2d(256, eps=1e-05, momentum=0.1, affine=True, track_running_stats=True)\n",
       "    (16): ReLU(inplace)\n",
       "    (17): Conv2d(256, 256, kernel_size=(3, 3), stride=(1, 1), padding=(1, 1))\n",
       "    (18): BatchNorm2d(256, eps=1e-05, momentum=0.1, affine=True, track_running_stats=True)\n",
       "    (19): ReLU(inplace)\n",
       "    (20): MaxPool2d(kernel_size=2, stride=2, padding=0, dilation=1, ceil_mode=False)\n",
       "    (21): Conv2d(256, 512, kernel_size=(3, 3), stride=(1, 1), padding=(1, 1))\n",
       "    (22): BatchNorm2d(512, eps=1e-05, momentum=0.1, affine=True, track_running_stats=True)\n",
       "    (23): ReLU(inplace)\n",
       "    (24): Conv2d(512, 512, kernel_size=(3, 3), stride=(1, 1), padding=(1, 1))\n",
       "    (25): BatchNorm2d(512, eps=1e-05, momentum=0.1, affine=True, track_running_stats=True)\n",
       "    (26): ReLU(inplace)\n",
       "    (27): MaxPool2d(kernel_size=2, stride=2, padding=0, dilation=1, ceil_mode=False)\n",
       "    (28): Conv2d(512, 512, kernel_size=(3, 3), stride=(1, 1), padding=(1, 1))\n",
       "    (29): BatchNorm2d(512, eps=1e-05, momentum=0.1, affine=True, track_running_stats=True)\n",
       "    (30): ReLU(inplace)\n",
       "    (31): Conv2d(512, 512, kernel_size=(3, 3), stride=(1, 1), padding=(1, 1))\n",
       "    (32): BatchNorm2d(512, eps=1e-05, momentum=0.1, affine=True, track_running_stats=True)\n",
       "    (33): ReLU(inplace)\n",
       "    (34): MaxPool2d(kernel_size=2, stride=2, padding=0, dilation=1, ceil_mode=False)\n",
       "    (35): AvgPool2d(kernel_size=1, stride=1, padding=0)\n",
       "  )\n",
       "  (classifier): Linear(in_features=512, out_features=10, bias=True)\n",
       ")"
      ]
     },
     "execution_count": 12,
     "metadata": {},
     "output_type": "execute_result"
    }
   ],
   "source": [
    "VGG('VGG13')"
   ]
  },
  {
   "cell_type": "code",
   "execution_count": 13,
   "metadata": {},
   "outputs": [
    {
     "data": {
      "text/plain": [
       "VGG(\n",
       "  (features): Sequential(\n",
       "    (0): Conv2d(3, 32, kernel_size=(3, 3), stride=(1, 1), padding=(1, 1))\n",
       "    (1): BatchNorm2d(32, eps=1e-05, momentum=0.1, affine=True, track_running_stats=True)\n",
       "    (2): ReLU(inplace)\n",
       "    (3): MaxPool2d(kernel_size=2, stride=2, padding=0, dilation=1, ceil_mode=False)\n",
       "    (4): Conv2d(32, 64, kernel_size=(3, 3), stride=(1, 1), padding=(1, 1))\n",
       "    (5): BatchNorm2d(64, eps=1e-05, momentum=0.1, affine=True, track_running_stats=True)\n",
       "    (6): ReLU(inplace)\n",
       "    (7): MaxPool2d(kernel_size=2, stride=2, padding=0, dilation=1, ceil_mode=False)\n",
       "    (8): Conv2d(64, 128, kernel_size=(3, 3), stride=(1, 1), padding=(1, 1))\n",
       "    (9): BatchNorm2d(128, eps=1e-05, momentum=0.1, affine=True, track_running_stats=True)\n",
       "    (10): ReLU(inplace)\n",
       "    (11): MaxPool2d(kernel_size=2, stride=2, padding=0, dilation=1, ceil_mode=False)\n",
       "    (12): Conv2d(128, 256, kernel_size=(3, 3), stride=(1, 1), padding=(1, 1))\n",
       "    (13): BatchNorm2d(256, eps=1e-05, momentum=0.1, affine=True, track_running_stats=True)\n",
       "    (14): ReLU(inplace)\n",
       "    (15): MaxPool2d(kernel_size=2, stride=2, padding=0, dilation=1, ceil_mode=False)\n",
       "    (16): Conv2d(256, 512, kernel_size=(3, 3), stride=(1, 1), padding=(1, 1))\n",
       "    (17): BatchNorm2d(512, eps=1e-05, momentum=0.1, affine=True, track_running_stats=True)\n",
       "    (18): ReLU(inplace)\n",
       "    (19): MaxPool2d(kernel_size=2, stride=2, padding=0, dilation=1, ceil_mode=False)\n",
       "    (20): AvgPool2d(kernel_size=1, stride=1, padding=0)\n",
       "  )\n",
       "  (classifier): Linear(in_features=512, out_features=10, bias=True)\n",
       ")"
      ]
     },
     "execution_count": 13,
     "metadata": {},
     "output_type": "execute_result"
    }
   ],
   "source": [
    "VGG('DistilVGG')"
   ]
  },
  {
   "cell_type": "code",
   "execution_count": 10,
   "metadata": {},
   "outputs": [
    {
     "data": {
      "text/plain": [
       "9416010"
      ]
     },
     "execution_count": 10,
     "metadata": {},
     "output_type": "execute_result"
    }
   ],
   "source": [
    "pytorch_total_params(VGG('VGG13'))"
   ]
  },
  {
   "cell_type": "code",
   "execution_count": 11,
   "metadata": {},
   "outputs": [
    {
     "data": {
      "text/plain": [
       "1575690"
      ]
     },
     "execution_count": 11,
     "metadata": {},
     "output_type": "execute_result"
    }
   ],
   "source": [
    "pytorch_total_params(VGG('DistilVGG'))"
   ]
  },
  {
   "cell_type": "code",
   "execution_count": 1,
   "metadata": {
    "ExecuteTime": {
     "end_time": "2020-06-01T20:19:41.082733Z",
     "start_time": "2020-06-01T20:19:41.079866Z"
    }
   },
   "outputs": [],
   "source": [
    "import os\n",
    "if os.getcwd().split('/')[-1] == \"notebooks\":\n",
    "    os.chdir('..')"
   ]
  },
  {
   "cell_type": "code",
   "execution_count": 2,
   "metadata": {
    "ExecuteTime": {
     "end_time": "2020-06-01T20:19:48.807932Z",
     "start_time": "2020-06-01T20:19:41.085203Z"
    }
   },
   "outputs": [
    {
     "name": "stdout",
     "output_type": "stream",
     "text": [
      "Files already downloaded and verified\n",
      "Files already downloaded and verified\n"
     ]
    }
   ],
   "source": [
    "import torch.nn as nn\n",
    "import torch.nn.functional as F\n",
    "import torch.optim as optim\n",
    "import torch\n",
    "import torchvision\n",
    "import torchvision.transforms as transforms\n",
    "from src.train import train\n",
    "from src.kd import extract_logits, kd_ce_loss\n",
    "from src.vgg import VGG\n",
    "torch.manual_seed(0)\n",
    "\n",
    "data = torch.load(\"./data/cifar10_training_data.pt\")\n",
    "labels = torch.load(\"./data/cifar10_training_labels.pt\")\n",
    "\n",
    "batch_size = 128\n",
    "\n",
    "transform = transforms.Compose(\n",
    "    [transforms.ToTensor(),\n",
    "     transforms.Normalize((0.5, 0.5, 0.5), (0.5, 0.5, 0.5))])\n",
    "\n",
    "trainset = torchvision.datasets.CIFAR10(root='./data/', train=True,\n",
    "                                        download=True, transform=transform)\n",
    "trainloader = torch.utils.data.DataLoader(trainset, batch_size=batch_size,\n",
    "                                          shuffle=False, num_workers=2)\n",
    "\n",
    "testset = torchvision.datasets.CIFAR10(root='./data/', train=False,\n",
    "                                       download=True, transform=transform)\n",
    "testloader = torch.utils.data.DataLoader(testset, batch_size=batch_size,\n",
    "                                         shuffle=False, num_workers=2)"
   ]
  },
  {
   "cell_type": "markdown",
   "metadata": {},
   "source": [
    "### Compress VGG13 into DistilVGG"
   ]
  },
  {
   "cell_type": "code",
   "execution_count": 3,
   "metadata": {
    "ExecuteTime": {
     "end_time": "2020-06-01T20:20:53.188091Z",
     "start_time": "2020-06-01T20:20:52.955164Z"
    }
   },
   "outputs": [
    {
     "data": {
      "application/vnd.jupyter.widget-view+json": {
       "model_id": "e47400d553f940d0a2838e10a4685c34",
       "version_major": 2,
       "version_minor": 0
      },
      "text/plain": [
       "HBox(children=(FloatProgress(value=0.0, max=120.0), HTML(value='')))"
      ]
     },
     "metadata": {},
     "output_type": "display_data"
    },
    {
     "name": "stdout",
     "output_type": "stream",
     "text": [
      "Epoch 1 accuracy = 60.92%\n",
      "Epoch 2 accuracy = 69.21%\n",
      "Epoch 3 accuracy = 71.25%\n",
      "Epoch 4 accuracy = 70.79%\n",
      "Epoch 5 accuracy = 71.79%\n",
      "Epoch 6 accuracy = 70.03%\n",
      "Epoch 7 accuracy = 73.29%\n",
      "Epoch 8 accuracy = 74.34%\n",
      "Epoch 9 accuracy = 74.77%\n",
      "Epoch 10 accuracy = 76.44%\n",
      "Epoch 11 accuracy = 76.32%\n",
      "Epoch 12 accuracy = 76.17%\n",
      "Epoch 13 accuracy = 76.20%\n",
      "Epoch 14 accuracy = 77.83%\n",
      "Epoch 15 accuracy = 77.35%\n",
      "Epoch 16 accuracy = 78.51%\n",
      "Epoch 17 accuracy = 77.79%\n",
      "Epoch 18 accuracy = 77.59%\n",
      "Epoch 19 accuracy = 76.71%\n",
      "Epoch 20 accuracy = 76.93%\n",
      "Epoch 21 accuracy = 77.15%\n",
      "Epoch 22 accuracy = 78.06%\n",
      "Epoch 23 accuracy = 78.30%\n",
      "Epoch 24 accuracy = 79.12%\n",
      "Epoch 25 accuracy = 80.26%\n",
      "Epoch 26 accuracy = 80.98%\n",
      "Epoch 27 accuracy = 81.07%\n",
      "Epoch 28 accuracy = 80.94%\n",
      "Epoch 29 accuracy = 81.01%\n",
      "Epoch 30 accuracy = 81.02%\n",
      "Epoch 31 accuracy = 81.13%\n",
      "Epoch 32 accuracy = 81.21%\n",
      "Epoch 33 accuracy = 81.27%\n",
      "Epoch 34 accuracy = 81.36%\n",
      "Epoch 35 accuracy = 81.39%\n",
      "Epoch 36 accuracy = 81.29%\n",
      "Epoch 37 accuracy = 81.31%\n",
      "Epoch 38 accuracy = 81.43%\n",
      "Epoch 39 accuracy = 81.25%\n",
      "Epoch 40 accuracy = 81.36%\n",
      "Epoch 41 accuracy = 81.40%\n",
      "Epoch 42 accuracy = 81.26%\n",
      "Epoch 43 accuracy = 81.40%\n",
      "Epoch 44 accuracy = 81.49%\n",
      "Epoch 45 accuracy = 81.40%\n",
      "Epoch 46 accuracy = 81.39%\n",
      "Epoch 47 accuracy = 81.35%\n",
      "Epoch 48 accuracy = 81.22%\n",
      "Epoch 49 accuracy = 81.25%\n",
      "Epoch 50 accuracy = 81.23%\n",
      "Epoch 51 accuracy = 81.15%\n",
      "Epoch 52 accuracy = 81.27%\n",
      "Epoch 53 accuracy = 81.27%\n",
      "Epoch 54 accuracy = 81.04%\n",
      "Epoch 55 accuracy = 81.30%\n",
      "Epoch 56 accuracy = 81.13%\n",
      "Epoch 57 accuracy = 81.15%\n",
      "Epoch 58 accuracy = 81.04%\n",
      "Epoch 59 accuracy = 81.21%\n",
      "Epoch 60 accuracy = 81.15%\n",
      "Epoch 61 accuracy = 81.22%\n",
      "Epoch 62 accuracy = 81.11%\n",
      "Epoch 63 accuracy = 81.00%\n",
      "Epoch 64 accuracy = 81.13%\n",
      "Epoch 65 accuracy = 81.12%\n",
      "Epoch 66 accuracy = 81.07%\n",
      "Epoch 67 accuracy = 81.27%\n",
      "Epoch 68 accuracy = 81.15%\n",
      "Epoch 69 accuracy = 81.09%\n",
      "Epoch 70 accuracy = 81.00%\n",
      "Epoch 71 accuracy = 81.13%\n",
      "Epoch 72 accuracy = 81.10%\n",
      "Epoch 73 accuracy = 81.07%\n",
      "Epoch 74 accuracy = 81.06%\n",
      "Epoch 75 accuracy = 81.10%\n",
      "Epoch 76 accuracy = 81.07%\n",
      "Epoch 77 accuracy = 81.10%\n",
      "Epoch 78 accuracy = 81.12%\n",
      "Epoch 79 accuracy = 81.12%\n",
      "Epoch 80 accuracy = 81.15%\n",
      "Epoch 81 accuracy = 81.18%\n",
      "Epoch 82 accuracy = 81.16%\n",
      "Epoch 83 accuracy = 81.14%\n",
      "Epoch 84 accuracy = 81.17%\n",
      "Epoch 85 accuracy = 81.17%\n",
      "Epoch 86 accuracy = 81.17%\n",
      "Epoch 87 accuracy = 81.18%\n",
      "Epoch 88 accuracy = 81.16%\n",
      "Epoch 89 accuracy = 81.20%\n",
      "Epoch 90 accuracy = 81.19%\n",
      "Epoch 91 accuracy = 81.18%\n",
      "Epoch 92 accuracy = 81.16%\n",
      "Epoch 93 accuracy = 81.16%\n",
      "Epoch 94 accuracy = 81.12%\n",
      "Epoch 95 accuracy = 81.17%\n",
      "Epoch 96 accuracy = 81.10%\n",
      "Epoch 97 accuracy = 81.11%\n",
      "Epoch 98 accuracy = 81.07%\n",
      "Epoch 99 accuracy = 81.12%\n",
      "Epoch 100 accuracy = 81.08%\n",
      "Epoch 101 accuracy = 81.04%\n",
      "Epoch 102 accuracy = 81.09%\n",
      "Epoch 103 accuracy = 81.05%\n",
      "Epoch 104 accuracy = 81.10%\n",
      "Epoch 105 accuracy = 81.09%\n",
      "Epoch 106 accuracy = 81.20%\n",
      "Epoch 107 accuracy = 81.17%\n",
      "Epoch 108 accuracy = 81.17%\n",
      "Epoch 109 accuracy = 81.16%\n",
      "Epoch 110 accuracy = 81.14%\n",
      "Epoch 111 accuracy = 81.14%\n",
      "Epoch 112 accuracy = 81.13%\n",
      "Epoch 113 accuracy = 81.13%\n",
      "Epoch 114 accuracy = 81.13%\n",
      "Epoch 115 accuracy = 81.12%\n",
      "Epoch 116 accuracy = 81.11%\n",
      "Epoch 117 accuracy = 81.11%\n",
      "Epoch 118 accuracy = 81.11%\n",
      "Epoch 119 accuracy = 81.10%\n",
      "Epoch 120 accuracy = 81.09%\n",
      "\n"
     ]
    }
   ],
   "source": [
    "torch.manual_seed(0)\n",
    "teacher = VGG('VGG13')\n",
    "teacher.load_state_dict(torch.load(\"./models/vgg13.pt\"))\n",
    "student = VGG('DistilVGG')\n",
    "if torch.cuda.is_available():\n",
    "    teacher.cuda()\n",
    "    student.cuda()\n",
    "\n",
    "logits = extract_logits(teacher, trainloader).cpu()\n",
    "kdtrain = torch.utils.data.TensorDataset(data, labels, logits)\n",
    "kdloader = torch.utils.data.DataLoader(kdtrain, batch_size=batch_size, shuffle=False, num_workers=2)\n",
    "\n",
    "criterion = kd_ce_loss\n",
    "optimizer = optim.Adam(student.parameters(), lr=0.01)\n",
    "scheduler = torch.optim.lr_scheduler.MultiStepLR(optimizer, [25, 70, 105], gamma=0.1)\n",
    "train(student, kdloader, testloader, optimizer, criterion, 120, writer=None, scheduler=scheduler)\n",
    "torch.save(student.state_dict(), \"./models/distilvgg_vgg13d.pt\")\n",
    "del teacher, kdtrain, kdloader"
   ]
  },
  {
   "cell_type": "code",
   "execution_count": 30,
   "metadata": {},
   "outputs": [
    {
     "data": {
      "application/vnd.jupyter.widget-view+json": {
       "model_id": "b870a9a8cbfa48898aa324022fe1724e",
       "version_major": 2,
       "version_minor": 0
      },
      "text/plain": [
       "HBox(children=(FloatProgress(value=0.0, max=75.0), HTML(value='')))"
      ]
     },
     "metadata": {},
     "output_type": "display_data"
    },
    {
     "name": "stdout",
     "output_type": "stream",
     "text": [
      "Epoch 1 accuracy = 56.07%\n",
      "Epoch 2 accuracy = 67.58%\n",
      "Epoch 3 accuracy = 66.16%\n",
      "Epoch 4 accuracy = 72.54%\n",
      "Epoch 5 accuracy = 73.43%\n",
      "Epoch 6 accuracy = 74.20%\n",
      "Epoch 7 accuracy = 76.43%\n",
      "Epoch 8 accuracy = 76.08%\n",
      "Epoch 9 accuracy = 76.01%\n",
      "Epoch 10 accuracy = 75.80%\n",
      "Epoch 11 accuracy = 77.30%\n",
      "Epoch 12 accuracy = 77.84%\n",
      "Epoch 13 accuracy = 77.96%\n",
      "Epoch 14 accuracy = 78.74%\n",
      "Epoch 15 accuracy = 79.32%\n",
      "Epoch 16 accuracy = 79.60%\n",
      "Epoch 17 accuracy = 80.29%\n",
      "Epoch 18 accuracy = 80.48%\n",
      "Epoch 19 accuracy = 80.29%\n",
      "Epoch 20 accuracy = 80.55%\n",
      "Epoch 21 accuracy = 80.21%\n",
      "Epoch 22 accuracy = 80.24%\n",
      "Epoch 23 accuracy = 80.18%\n",
      "Epoch 24 accuracy = 80.12%\n",
      "Epoch 25 accuracy = 79.78%\n",
      "Epoch 26 accuracy = 81.33%\n",
      "Epoch 27 accuracy = 81.30%\n",
      "Epoch 28 accuracy = 81.38%\n",
      "Epoch 29 accuracy = 81.40%\n",
      "Epoch 30 accuracy = 81.46%\n",
      "Epoch 31 accuracy = 81.42%\n",
      "Epoch 32 accuracy = 81.41%\n",
      "Epoch 33 accuracy = 81.37%\n",
      "Epoch 34 accuracy = 81.39%\n",
      "Epoch 35 accuracy = 81.37%\n",
      "Epoch 36 accuracy = 81.43%\n",
      "Epoch 37 accuracy = 81.40%\n",
      "Epoch 38 accuracy = 81.40%\n",
      "Epoch 39 accuracy = 81.35%\n",
      "Epoch 40 accuracy = 81.37%\n",
      "Epoch 41 accuracy = 81.40%\n",
      "Epoch 42 accuracy = 81.31%\n",
      "Epoch 43 accuracy = 81.27%\n",
      "Epoch 44 accuracy = 81.21%\n",
      "Epoch 45 accuracy = 81.24%\n",
      "Epoch 46 accuracy = 81.21%\n",
      "Epoch 47 accuracy = 81.09%\n",
      "Epoch 48 accuracy = 81.25%\n",
      "Epoch 49 accuracy = 81.10%\n",
      "Epoch 50 accuracy = 81.05%\n",
      "Epoch 51 accuracy = 81.06%\n",
      "Epoch 52 accuracy = 81.03%\n",
      "Epoch 53 accuracy = 81.11%\n",
      "Epoch 54 accuracy = 81.03%\n",
      "Epoch 55 accuracy = 81.05%\n",
      "Epoch 56 accuracy = 80.90%\n",
      "Epoch 57 accuracy = 80.97%\n",
      "Epoch 58 accuracy = 80.98%\n",
      "Epoch 59 accuracy = 80.78%\n",
      "Epoch 60 accuracy = 80.81%\n",
      "Epoch 61 accuracy = 80.93%\n",
      "Epoch 62 accuracy = 81.03%\n",
      "Epoch 63 accuracy = 80.82%\n",
      "Epoch 64 accuracy = 80.99%\n",
      "Epoch 65 accuracy = 81.00%\n",
      "Epoch 66 accuracy = 80.97%\n",
      "Epoch 67 accuracy = 81.07%\n",
      "Epoch 68 accuracy = 80.94%\n",
      "Epoch 69 accuracy = 80.84%\n",
      "Epoch 70 accuracy = 80.67%\n",
      "Epoch 71 accuracy = 81.06%\n",
      "Epoch 72 accuracy = 81.20%\n",
      "Epoch 73 accuracy = 81.17%\n",
      "Epoch 74 accuracy = 81.16%\n",
      "Epoch 75 accuracy = 81.15%\n",
      "\n"
     ]
    }
   ],
   "source": [
    "torch.manual_seed(0)\n",
    "T = 13\n",
    "teacher = VGG('VGG13')\n",
    "teacher.load_state_dict(torch.load(\"./models/vgg13.pt\"))\n",
    "student = VGG('DistilVGG')\n",
    "if torch.cuda.is_available():\n",
    "    teacher.cuda()\n",
    "    student.cuda()\n",
    "\n",
    "logits = extract_logits(teacher, trainloader).cpu()\n",
    "kdtrain = torch.utils.data.TensorDataset(data, labels, logits)\n",
    "kdloader = torch.utils.data.DataLoader(kdtrain, batch_size=batch_size, shuffle=False, num_workers=2)\n",
    "\n",
    "criterion = kd_ce_loss(temperature = T, alpha = 0.8)\n",
    "optimizer = optim.Adam(student.parameters(), lr=0.01)\n",
    "scheduler = torch.optim.lr_scheduler.MultiStepLR(optimizer, [25, 70], gamma=0.1)\n",
    "train(student, kdloader, testloader, optimizer, criterion, 75, writer=None, scheduler=scheduler)\n",
    "torch.save(student.state_dict(), \"./models/distilvgg_vgg13d_t{}.pt\".format(T))\n",
    "del teacher, kdtrain, kdloader"
   ]
  },
  {
   "cell_type": "markdown",
   "metadata": {},
   "source": [
    "### Compress VGG13 into DistilVGG T=17"
   ]
  },
  {
   "cell_type": "code",
   "execution_count": 31,
   "metadata": {},
   "outputs": [
    {
     "data": {
      "application/vnd.jupyter.widget-view+json": {
       "model_id": "99509413520943d0accf8c3d0c7f54bf",
       "version_major": 2,
       "version_minor": 0
      },
      "text/plain": [
       "HBox(children=(FloatProgress(value=0.0, max=75.0), HTML(value='')))"
      ]
     },
     "metadata": {},
     "output_type": "display_data"
    },
    {
     "name": "stdout",
     "output_type": "stream",
     "text": [
      "Epoch 1 accuracy = 57.73%\n",
      "Epoch 2 accuracy = 63.05%\n",
      "Epoch 3 accuracy = 69.56%\n",
      "Epoch 4 accuracy = 73.32%\n",
      "Epoch 5 accuracy = 73.68%\n",
      "Epoch 6 accuracy = 75.74%\n",
      "Epoch 7 accuracy = 76.31%\n",
      "Epoch 8 accuracy = 75.88%\n",
      "Epoch 9 accuracy = 75.45%\n",
      "Epoch 10 accuracy = 76.67%\n",
      "Epoch 11 accuracy = 75.61%\n",
      "Epoch 12 accuracy = 75.56%\n",
      "Epoch 13 accuracy = 76.87%\n",
      "Epoch 14 accuracy = 76.04%\n",
      "Epoch 15 accuracy = 77.34%\n",
      "Epoch 16 accuracy = 77.46%\n",
      "Epoch 17 accuracy = 79.00%\n",
      "Epoch 18 accuracy = 78.93%\n",
      "Epoch 19 accuracy = 78.52%\n",
      "Epoch 20 accuracy = 78.59%\n",
      "Epoch 21 accuracy = 78.51%\n",
      "Epoch 22 accuracy = 78.26%\n",
      "Epoch 23 accuracy = 78.06%\n",
      "Epoch 24 accuracy = 79.27%\n",
      "Epoch 25 accuracy = 80.23%\n",
      "Epoch 26 accuracy = 81.16%\n",
      "Epoch 27 accuracy = 81.38%\n",
      "Epoch 28 accuracy = 81.43%\n",
      "Epoch 29 accuracy = 81.55%\n",
      "Epoch 30 accuracy = 81.65%\n",
      "Epoch 31 accuracy = 81.74%\n",
      "Epoch 32 accuracy = 81.70%\n",
      "Epoch 33 accuracy = 81.73%\n",
      "Epoch 34 accuracy = 81.78%\n",
      "Epoch 35 accuracy = 81.77%\n",
      "Epoch 36 accuracy = 81.79%\n",
      "Epoch 37 accuracy = 81.80%\n",
      "Epoch 38 accuracy = 81.83%\n",
      "Epoch 39 accuracy = 81.78%\n",
      "Epoch 40 accuracy = 81.75%\n",
      "Epoch 41 accuracy = 81.65%\n",
      "Epoch 42 accuracy = 81.55%\n",
      "Epoch 43 accuracy = 81.51%\n",
      "Epoch 44 accuracy = 81.40%\n",
      "Epoch 45 accuracy = 81.40%\n",
      "Epoch 46 accuracy = 81.38%\n",
      "Epoch 47 accuracy = 81.40%\n",
      "Epoch 48 accuracy = 81.29%\n",
      "Epoch 49 accuracy = 81.26%\n",
      "Epoch 50 accuracy = 81.20%\n",
      "Epoch 51 accuracy = 81.15%\n",
      "Epoch 52 accuracy = 81.23%\n",
      "Epoch 53 accuracy = 81.16%\n",
      "Epoch 54 accuracy = 81.19%\n",
      "Epoch 55 accuracy = 81.16%\n",
      "Epoch 56 accuracy = 81.06%\n",
      "Epoch 57 accuracy = 81.08%\n",
      "Epoch 58 accuracy = 81.06%\n",
      "Epoch 59 accuracy = 81.00%\n",
      "Epoch 60 accuracy = 81.00%\n",
      "Epoch 61 accuracy = 80.93%\n",
      "Epoch 62 accuracy = 80.94%\n",
      "Epoch 63 accuracy = 80.96%\n",
      "Epoch 64 accuracy = 81.04%\n",
      "Epoch 65 accuracy = 80.99%\n",
      "Epoch 66 accuracy = 81.02%\n",
      "Epoch 67 accuracy = 80.92%\n",
      "Epoch 68 accuracy = 81.01%\n",
      "Epoch 69 accuracy = 80.94%\n",
      "Epoch 70 accuracy = 80.74%\n",
      "Epoch 71 accuracy = 80.88%\n",
      "Epoch 72 accuracy = 80.85%\n",
      "Epoch 73 accuracy = 80.89%\n",
      "Epoch 74 accuracy = 80.92%\n",
      "Epoch 75 accuracy = 80.88%\n",
      "\n"
     ]
    }
   ],
   "source": [
    "torch.manual_seed(0)\n",
    "T = 17\n",
    "teacher = VGG('VGG13')\n",
    "teacher.load_state_dict(torch.load(\"./models/vgg13.pt\"))\n",
    "student = VGG('DistilVGG')\n",
    "if torch.cuda.is_available():\n",
    "    teacher.cuda()\n",
    "    student.cuda()\n",
    "\n",
    "logits = extract_logits(teacher, trainloader).cpu()\n",
    "kdtrain = torch.utils.data.TensorDataset(data, labels, logits)\n",
    "kdloader = torch.utils.data.DataLoader(kdtrain, batch_size=batch_size, shuffle=False, num_workers=2)\n",
    "\n",
    "criterion = kd_ce_loss(temperature = T, alpha = 0.8)\n",
    "optimizer = optim.Adam(student.parameters(), lr=0.01)\n",
    "scheduler = torch.optim.lr_scheduler.MultiStepLR(optimizer, [25, 70], gamma=0.1)\n",
    "train(student, kdloader, testloader, optimizer, criterion, 75, writer=None, scheduler=scheduler)\n",
    "torch.save(student.state_dict(), \"./models/distilvgg_vgg13d_t{}.pt\".format(T))\n",
    "del teacher, kdtrain, kdloader"
   ]
  },
  {
   "cell_type": "markdown",
   "metadata": {},
   "source": [
    "### Compress VGG16 into VGG13 into VGG11 into DistilVGG"
   ]
  },
  {
   "cell_type": "code",
   "execution_count": 22,
   "metadata": {},
   "outputs": [],
   "source": [
    "def distill_models(teacher_model, student_model, teacher_dir, student_dir, temperature):\n",
    "    torch.manual_seed(0)\n",
    "    teacher = VGG(teacher_model)\n",
    "    teacher.load_state_dict(torch.load(\"./models/{}.pt\".format(teacher_dir)))\n",
    "    student = VGG(student_model)\n",
    "    if torch.cuda.is_available():\n",
    "        teacher.cuda()\n",
    "        student.cuda()\n",
    "\n",
    "    logits = extract_logits(teacher, trainloader).cpu()\n",
    "    kdtrain = torch.utils.data.TensorDataset(data, labels, logits)\n",
    "    kdloader = torch.utils.data.DataLoader(kdtrain, batch_size=batch_size, shuffle=False, num_workers=2)\n",
    "\n",
    "    criterion = kd_ce_loss(temperature = T, alpha = 0.8)\n",
    "    optimizer = optim.Adam(student.parameters(), lr=0.01)\n",
    "    scheduler = torch.optim.lr_scheduler.MultiStepLR(optimizer, [25, 70], gamma=0.1)\n",
    "    train(student, kdloader, testloader, optimizer, criterion, 75, writer=None, scheduler=scheduler)\n",
    "    torch.save(student.state_dict(), \"./models/{}.pt\".format(student_dir))\n",
    "    del teacher, kdtrain, kdloader\n",
    "    return student\n",
    "\n",
    "T = 20"
   ]
  },
  {
   "cell_type": "code",
   "execution_count": 23,
   "metadata": {},
   "outputs": [
    {
     "data": {
      "application/vnd.jupyter.widget-view+json": {
       "model_id": "ea2a51c7a8df4bd7b72e7e2ba4729c30",
       "version_major": 2,
       "version_minor": 0
      },
      "text/plain": [
       "HBox(children=(FloatProgress(value=0.0, max=75.0), HTML(value='')))"
      ]
     },
     "metadata": {},
     "output_type": "display_data"
    },
    {
     "name": "stdout",
     "output_type": "stream",
     "text": [
      "Epoch 1 accuracy = 35.77%\n",
      "Epoch 2 accuracy = 56.03%\n",
      "Epoch 3 accuracy = 63.57%\n",
      "Epoch 4 accuracy = 67.64%\n",
      "Epoch 5 accuracy = 70.22%\n",
      "Epoch 6 accuracy = 71.03%\n",
      "Epoch 7 accuracy = 76.10%\n",
      "Epoch 8 accuracy = 76.54%\n",
      "Epoch 9 accuracy = 79.04%\n",
      "Epoch 10 accuracy = 77.40%\n",
      "Epoch 11 accuracy = 78.66%\n",
      "Epoch 12 accuracy = 81.06%\n",
      "Epoch 13 accuracy = 81.81%\n",
      "Epoch 14 accuracy = 81.50%\n",
      "Epoch 15 accuracy = 80.50%\n",
      "Epoch 16 accuracy = 82.16%\n",
      "Epoch 17 accuracy = 82.67%\n",
      "Epoch 18 accuracy = 81.10%\n",
      "Epoch 19 accuracy = 81.68%\n",
      "Epoch 20 accuracy = 81.40%\n",
      "Epoch 21 accuracy = 82.71%\n",
      "Epoch 22 accuracy = 81.73%\n",
      "Epoch 23 accuracy = 80.48%\n",
      "Epoch 24 accuracy = 83.06%\n",
      "Epoch 25 accuracy = 83.31%\n",
      "Epoch 26 accuracy = 84.83%\n",
      "Epoch 27 accuracy = 84.94%\n",
      "Epoch 28 accuracy = 85.03%\n",
      "Epoch 29 accuracy = 85.19%\n",
      "Epoch 30 accuracy = 85.31%\n",
      "Epoch 31 accuracy = 85.39%\n",
      "Epoch 32 accuracy = 85.45%\n",
      "Epoch 33 accuracy = 85.48%\n",
      "Epoch 34 accuracy = 85.48%\n",
      "Epoch 35 accuracy = 85.49%\n",
      "Epoch 36 accuracy = 85.48%\n",
      "Epoch 37 accuracy = 85.56%\n",
      "Epoch 38 accuracy = 85.59%\n",
      "Epoch 39 accuracy = 84.80%\n",
      "Epoch 40 accuracy = 85.62%\n",
      "Epoch 41 accuracy = 85.49%\n",
      "Epoch 42 accuracy = 85.55%\n",
      "Epoch 43 accuracy = 85.60%\n",
      "Epoch 44 accuracy = 85.63%\n",
      "Epoch 45 accuracy = 85.62%\n",
      "Epoch 46 accuracy = 85.58%\n",
      "Epoch 47 accuracy = 85.57%\n",
      "Epoch 48 accuracy = 85.48%\n",
      "Epoch 49 accuracy = 85.48%\n",
      "Epoch 50 accuracy = 85.54%\n",
      "Epoch 51 accuracy = 85.67%\n",
      "Epoch 52 accuracy = 84.97%\n",
      "Epoch 53 accuracy = 85.37%\n",
      "Epoch 54 accuracy = 85.55%\n",
      "Epoch 55 accuracy = 85.56%\n",
      "Epoch 56 accuracy = 85.51%\n",
      "Epoch 57 accuracy = 85.52%\n",
      "Epoch 58 accuracy = 85.55%\n",
      "Epoch 59 accuracy = 85.54%\n",
      "Epoch 60 accuracy = 85.53%\n",
      "Epoch 61 accuracy = 85.47%\n",
      "Epoch 62 accuracy = 85.40%\n",
      "Epoch 63 accuracy = 85.39%\n",
      "Epoch 64 accuracy = 85.50%\n",
      "Epoch 65 accuracy = 85.47%\n",
      "Epoch 66 accuracy = 85.34%\n",
      "Epoch 67 accuracy = 85.29%\n",
      "Epoch 68 accuracy = 84.70%\n",
      "Epoch 69 accuracy = 85.12%\n",
      "Epoch 70 accuracy = 85.23%\n",
      "Epoch 71 accuracy = 85.24%\n",
      "Epoch 72 accuracy = 85.26%\n",
      "Epoch 73 accuracy = 85.27%\n",
      "Epoch 74 accuracy = 85.28%\n",
      "Epoch 75 accuracy = 85.30%\n",
      "\n"
     ]
    }
   ],
   "source": [
    "student = distill_models(\"VGG16\", \"VGG13\", \"vgg16\", \"vgg13_vgg16d_t{}\".format(T), T)"
   ]
  },
  {
   "cell_type": "code",
   "execution_count": 24,
   "metadata": {},
   "outputs": [
    {
     "data": {
      "application/vnd.jupyter.widget-view+json": {
       "model_id": "c40a5e04f43d41a3a0e3cd302d5018de",
       "version_major": 2,
       "version_minor": 0
      },
      "text/plain": [
       "HBox(children=(FloatProgress(value=0.0, max=75.0), HTML(value='')))"
      ]
     },
     "metadata": {},
     "output_type": "display_data"
    },
    {
     "name": "stdout",
     "output_type": "stream",
     "text": [
      "Epoch 1 accuracy = 43.94%\n",
      "Epoch 2 accuracy = 58.39%\n",
      "Epoch 3 accuracy = 65.74%\n",
      "Epoch 4 accuracy = 68.89%\n",
      "Epoch 5 accuracy = 71.39%\n",
      "Epoch 6 accuracy = 70.19%\n",
      "Epoch 7 accuracy = 75.72%\n",
      "Epoch 8 accuracy = 70.01%\n",
      "Epoch 9 accuracy = 75.26%\n",
      "Epoch 10 accuracy = 77.73%\n",
      "Epoch 11 accuracy = 74.14%\n",
      "Epoch 12 accuracy = 77.09%\n",
      "Epoch 13 accuracy = 79.22%\n",
      "Epoch 14 accuracy = 77.84%\n",
      "Epoch 15 accuracy = 78.76%\n",
      "Epoch 16 accuracy = 78.93%\n",
      "Epoch 17 accuracy = 79.21%\n",
      "Epoch 18 accuracy = 79.83%\n",
      "Epoch 19 accuracy = 78.33%\n",
      "Epoch 20 accuracy = 79.52%\n",
      "Epoch 21 accuracy = 79.87%\n",
      "Epoch 22 accuracy = 77.69%\n",
      "Epoch 23 accuracy = 78.86%\n",
      "Epoch 24 accuracy = 80.35%\n",
      "Epoch 25 accuracy = 80.27%\n",
      "Epoch 26 accuracy = 81.94%\n",
      "Epoch 27 accuracy = 82.19%\n",
      "Epoch 28 accuracy = 82.30%\n",
      "Epoch 29 accuracy = 82.37%\n",
      "Epoch 30 accuracy = 82.43%\n",
      "Epoch 31 accuracy = 82.53%\n",
      "Epoch 32 accuracy = 82.59%\n",
      "Epoch 33 accuracy = 82.67%\n",
      "Epoch 34 accuracy = 82.69%\n",
      "Epoch 35 accuracy = 82.79%\n",
      "Epoch 36 accuracy = 82.87%\n",
      "Epoch 37 accuracy = 83.12%\n",
      "Epoch 38 accuracy = 82.99%\n",
      "Epoch 39 accuracy = 82.98%\n",
      "Epoch 40 accuracy = 83.01%\n",
      "Epoch 41 accuracy = 83.09%\n",
      "Epoch 42 accuracy = 83.31%\n",
      "Epoch 43 accuracy = 83.26%\n",
      "Epoch 44 accuracy = 82.94%\n",
      "Epoch 45 accuracy = 82.78%\n",
      "Epoch 46 accuracy = 82.98%\n",
      "Epoch 47 accuracy = 83.02%\n",
      "Epoch 48 accuracy = 83.12%\n",
      "Epoch 49 accuracy = 83.18%\n",
      "Epoch 50 accuracy = 83.24%\n",
      "Epoch 51 accuracy = 83.29%\n",
      "Epoch 52 accuracy = 83.01%\n",
      "Epoch 53 accuracy = 82.31%\n",
      "Epoch 54 accuracy = 82.53%\n",
      "Epoch 55 accuracy = 82.54%\n",
      "Epoch 56 accuracy = 82.72%\n",
      "Epoch 57 accuracy = 82.90%\n",
      "Epoch 58 accuracy = 83.02%\n",
      "Epoch 59 accuracy = 83.11%\n",
      "Epoch 60 accuracy = 82.97%\n",
      "Epoch 61 accuracy = 83.04%\n",
      "Epoch 62 accuracy = 83.04%\n",
      "Epoch 63 accuracy = 82.31%\n",
      "Epoch 64 accuracy = 82.61%\n",
      "Epoch 65 accuracy = 82.88%\n",
      "Epoch 66 accuracy = 83.01%\n",
      "Epoch 67 accuracy = 82.98%\n",
      "Epoch 68 accuracy = 83.02%\n",
      "Epoch 69 accuracy = 83.07%\n",
      "Epoch 70 accuracy = 83.03%\n",
      "Epoch 71 accuracy = 83.06%\n",
      "Epoch 72 accuracy = 83.07%\n",
      "Epoch 73 accuracy = 83.09%\n",
      "Epoch 74 accuracy = 83.11%\n",
      "Epoch 75 accuracy = 83.10%\n",
      "\n"
     ]
    }
   ],
   "source": [
    "student = distill_models(\"VGG13\", \"VGG11\", \"vgg13_vgg16d_t{}\".format(T), \"vgg11_vgg13_vgg16d_t{}\".format(T), T)"
   ]
  },
  {
   "cell_type": "code",
   "execution_count": 25,
   "metadata": {},
   "outputs": [
    {
     "data": {
      "application/vnd.jupyter.widget-view+json": {
       "model_id": "626818e3dcc74afd9bd6cacb498fe8f6",
       "version_major": 2,
       "version_minor": 0
      },
      "text/plain": [
       "HBox(children=(FloatProgress(value=0.0, max=75.0), HTML(value='')))"
      ]
     },
     "metadata": {},
     "output_type": "display_data"
    },
    {
     "name": "stdout",
     "output_type": "stream",
     "text": [
      "Epoch 1 accuracy = 59.01%\n",
      "Epoch 2 accuracy = 65.24%\n",
      "Epoch 3 accuracy = 68.02%\n",
      "Epoch 4 accuracy = 72.48%\n",
      "Epoch 5 accuracy = 67.12%\n",
      "Epoch 6 accuracy = 74.01%\n",
      "Epoch 7 accuracy = 73.25%\n",
      "Epoch 8 accuracy = 72.41%\n",
      "Epoch 9 accuracy = 73.50%\n",
      "Epoch 10 accuracy = 77.66%\n",
      "Epoch 11 accuracy = 77.15%\n",
      "Epoch 12 accuracy = 75.55%\n",
      "Epoch 13 accuracy = 77.62%\n",
      "Epoch 14 accuracy = 77.34%\n",
      "Epoch 15 accuracy = 77.43%\n",
      "Epoch 16 accuracy = 78.16%\n",
      "Epoch 17 accuracy = 77.89%\n",
      "Epoch 18 accuracy = 77.67%\n",
      "Epoch 19 accuracy = 76.18%\n",
      "Epoch 20 accuracy = 76.86%\n",
      "Epoch 21 accuracy = 77.20%\n",
      "Epoch 22 accuracy = 78.01%\n",
      "Epoch 23 accuracy = 77.42%\n",
      "Epoch 24 accuracy = 78.29%\n",
      "Epoch 25 accuracy = 77.75%\n",
      "Epoch 26 accuracy = 80.11%\n",
      "Epoch 27 accuracy = 80.15%\n",
      "Epoch 28 accuracy = 80.23%\n",
      "Epoch 29 accuracy = 80.30%\n",
      "Epoch 30 accuracy = 80.35%\n",
      "Epoch 31 accuracy = 80.35%\n",
      "Epoch 32 accuracy = 80.47%\n",
      "Epoch 33 accuracy = 80.54%\n",
      "Epoch 34 accuracy = 80.54%\n",
      "Epoch 35 accuracy = 80.63%\n",
      "Epoch 36 accuracy = 80.62%\n",
      "Epoch 37 accuracy = 80.69%\n",
      "Epoch 38 accuracy = 80.75%\n",
      "Epoch 39 accuracy = 80.78%\n",
      "Epoch 40 accuracy = 80.82%\n",
      "Epoch 41 accuracy = 80.80%\n",
      "Epoch 42 accuracy = 80.76%\n",
      "Epoch 43 accuracy = 80.82%\n",
      "Epoch 44 accuracy = 80.72%\n",
      "Epoch 45 accuracy = 80.72%\n",
      "Epoch 46 accuracy = 80.68%\n",
      "Epoch 47 accuracy = 80.75%\n",
      "Epoch 48 accuracy = 80.73%\n",
      "Epoch 49 accuracy = 80.77%\n",
      "Epoch 50 accuracy = 80.77%\n",
      "Epoch 51 accuracy = 80.70%\n",
      "Epoch 52 accuracy = 80.67%\n",
      "Epoch 53 accuracy = 80.70%\n",
      "Epoch 54 accuracy = 80.69%\n",
      "Epoch 55 accuracy = 80.60%\n",
      "Epoch 56 accuracy = 80.57%\n",
      "Epoch 57 accuracy = 80.58%\n",
      "Epoch 58 accuracy = 80.57%\n",
      "Epoch 59 accuracy = 80.55%\n",
      "Epoch 60 accuracy = 80.38%\n",
      "Epoch 61 accuracy = 80.38%\n",
      "Epoch 62 accuracy = 80.44%\n",
      "Epoch 63 accuracy = 80.41%\n",
      "Epoch 64 accuracy = 80.40%\n",
      "Epoch 65 accuracy = 80.44%\n",
      "Epoch 66 accuracy = 80.40%\n",
      "Epoch 67 accuracy = 80.32%\n",
      "Epoch 68 accuracy = 80.43%\n",
      "Epoch 69 accuracy = 80.49%\n",
      "Epoch 70 accuracy = 80.49%\n",
      "Epoch 71 accuracy = 80.48%\n",
      "Epoch 72 accuracy = 80.45%\n",
      "Epoch 73 accuracy = 80.44%\n",
      "Epoch 74 accuracy = 80.43%\n",
      "Epoch 75 accuracy = 80.46%\n",
      "\n"
     ]
    }
   ],
   "source": [
    "student = distill_models(\"VGG11\", \"DistilVGG\", \"vgg11_vgg13_vgg16d_t{}\".format(T), \"distillvgg_vgg11_vgg13_vgg16d_t{}\".format(T), T)"
   ]
  }
 ],
 "metadata": {
  "kernelspec": {
   "display_name": "Python 3",
   "language": "python",
   "name": "python3"
  },
  "language_info": {
   "codemirror_mode": {
    "name": "ipython",
    "version": 3
   },
   "file_extension": ".py",
   "mimetype": "text/x-python",
   "name": "python",
   "nbconvert_exporter": "python",
   "pygments_lexer": "ipython3",
   "version": "3.7.1"
  },
  "toc": {
   "base_numbering": 1,
   "nav_menu": {},
   "number_sections": true,
   "sideBar": true,
   "skip_h1_title": false,
   "title_cell": "Table of Contents",
   "title_sidebar": "Contents",
   "toc_cell": false,
   "toc_position": {},
   "toc_section_display": true,
   "toc_window_display": false
  }
 },
 "nbformat": 4,
 "nbformat_minor": 4
}
